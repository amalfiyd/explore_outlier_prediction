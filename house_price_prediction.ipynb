{
 "cells": [
  {
   "cell_type": "code",
   "execution_count": 2,
   "metadata": {},
   "outputs": [],
   "source": [
    "import numpy as np\r\n",
    "import pandas as pd\r\n",
    "import os"
   ]
  },
  {
   "cell_type": "code",
   "execution_count": 19,
   "metadata": {},
   "outputs": [
    {
     "data": {
      "text/html": [
       "<div>\n",
       "<style scoped>\n",
       "    .dataframe tbody tr th:only-of-type {\n",
       "        vertical-align: middle;\n",
       "    }\n",
       "\n",
       "    .dataframe tbody tr th {\n",
       "        vertical-align: top;\n",
       "    }\n",
       "\n",
       "    .dataframe thead th {\n",
       "        text-align: right;\n",
       "    }\n",
       "</style>\n",
       "<table border=\"1\" class=\"dataframe\">\n",
       "  <thead>\n",
       "    <tr style=\"text-align: right;\">\n",
       "      <th></th>\n",
       "      <th>count</th>\n",
       "      <th>mean</th>\n",
       "      <th>std</th>\n",
       "      <th>min</th>\n",
       "      <th>25%</th>\n",
       "      <th>50%</th>\n",
       "      <th>75%</th>\n",
       "      <th>max</th>\n",
       "    </tr>\n",
       "  </thead>\n",
       "  <tbody>\n",
       "    <tr>\n",
       "      <th>longitude</th>\n",
       "      <td>20433.0</td>\n",
       "      <td>-119.570689</td>\n",
       "      <td>2.003578</td>\n",
       "      <td>-124.3500</td>\n",
       "      <td>-121.8000</td>\n",
       "      <td>-118.4900</td>\n",
       "      <td>-118.010</td>\n",
       "      <td>-114.3100</td>\n",
       "    </tr>\n",
       "    <tr>\n",
       "      <th>latitude</th>\n",
       "      <td>20433.0</td>\n",
       "      <td>35.633221</td>\n",
       "      <td>2.136348</td>\n",
       "      <td>32.5400</td>\n",
       "      <td>33.9300</td>\n",
       "      <td>34.2600</td>\n",
       "      <td>37.720</td>\n",
       "      <td>41.9500</td>\n",
       "    </tr>\n",
       "    <tr>\n",
       "      <th>housing_median_age</th>\n",
       "      <td>20433.0</td>\n",
       "      <td>28.633094</td>\n",
       "      <td>12.591805</td>\n",
       "      <td>1.0000</td>\n",
       "      <td>18.0000</td>\n",
       "      <td>29.0000</td>\n",
       "      <td>37.000</td>\n",
       "      <td>52.0000</td>\n",
       "    </tr>\n",
       "    <tr>\n",
       "      <th>total_rooms</th>\n",
       "      <td>20433.0</td>\n",
       "      <td>2636.504233</td>\n",
       "      <td>2185.269567</td>\n",
       "      <td>2.0000</td>\n",
       "      <td>1450.0000</td>\n",
       "      <td>2127.0000</td>\n",
       "      <td>3143.000</td>\n",
       "      <td>39320.0000</td>\n",
       "    </tr>\n",
       "    <tr>\n",
       "      <th>total_bedrooms</th>\n",
       "      <td>20433.0</td>\n",
       "      <td>537.870553</td>\n",
       "      <td>421.385070</td>\n",
       "      <td>1.0000</td>\n",
       "      <td>296.0000</td>\n",
       "      <td>435.0000</td>\n",
       "      <td>647.000</td>\n",
       "      <td>6445.0000</td>\n",
       "    </tr>\n",
       "    <tr>\n",
       "      <th>population</th>\n",
       "      <td>20433.0</td>\n",
       "      <td>1424.946949</td>\n",
       "      <td>1133.208490</td>\n",
       "      <td>3.0000</td>\n",
       "      <td>787.0000</td>\n",
       "      <td>1166.0000</td>\n",
       "      <td>1722.000</td>\n",
       "      <td>35682.0000</td>\n",
       "    </tr>\n",
       "    <tr>\n",
       "      <th>households</th>\n",
       "      <td>20433.0</td>\n",
       "      <td>499.433465</td>\n",
       "      <td>382.299226</td>\n",
       "      <td>1.0000</td>\n",
       "      <td>280.0000</td>\n",
       "      <td>409.0000</td>\n",
       "      <td>604.000</td>\n",
       "      <td>6082.0000</td>\n",
       "    </tr>\n",
       "    <tr>\n",
       "      <th>median_income</th>\n",
       "      <td>20433.0</td>\n",
       "      <td>3.871162</td>\n",
       "      <td>1.899291</td>\n",
       "      <td>0.4999</td>\n",
       "      <td>2.5637</td>\n",
       "      <td>3.5365</td>\n",
       "      <td>4.744</td>\n",
       "      <td>15.0001</td>\n",
       "    </tr>\n",
       "    <tr>\n",
       "      <th>median_house_value</th>\n",
       "      <td>20433.0</td>\n",
       "      <td>206864.413155</td>\n",
       "      <td>115435.667099</td>\n",
       "      <td>14999.0000</td>\n",
       "      <td>119500.0000</td>\n",
       "      <td>179700.0000</td>\n",
       "      <td>264700.000</td>\n",
       "      <td>500001.0000</td>\n",
       "    </tr>\n",
       "  </tbody>\n",
       "</table>\n",
       "</div>"
      ],
      "text/plain": [
       "                      count           mean            std         min  \\\n",
       "longitude           20433.0    -119.570689       2.003578   -124.3500   \n",
       "latitude            20433.0      35.633221       2.136348     32.5400   \n",
       "housing_median_age  20433.0      28.633094      12.591805      1.0000   \n",
       "total_rooms         20433.0    2636.504233    2185.269567      2.0000   \n",
       "total_bedrooms      20433.0     537.870553     421.385070      1.0000   \n",
       "population          20433.0    1424.946949    1133.208490      3.0000   \n",
       "households          20433.0     499.433465     382.299226      1.0000   \n",
       "median_income       20433.0       3.871162       1.899291      0.4999   \n",
       "median_house_value  20433.0  206864.413155  115435.667099  14999.0000   \n",
       "\n",
       "                            25%          50%         75%          max  \n",
       "longitude             -121.8000    -118.4900    -118.010    -114.3100  \n",
       "latitude                33.9300      34.2600      37.720      41.9500  \n",
       "housing_median_age      18.0000      29.0000      37.000      52.0000  \n",
       "total_rooms           1450.0000    2127.0000    3143.000   39320.0000  \n",
       "total_bedrooms         296.0000     435.0000     647.000    6445.0000  \n",
       "population             787.0000    1166.0000    1722.000   35682.0000  \n",
       "households             280.0000     409.0000     604.000    6082.0000  \n",
       "median_income            2.5637       3.5365       4.744      15.0001  \n",
       "median_house_value  119500.0000  179700.0000  264700.000  500001.0000  "
      ]
     },
     "execution_count": 19,
     "metadata": {},
     "output_type": "execute_result"
    }
   ],
   "source": [
    "# Data preparation\r\n",
    "ROOTDIR = 'datasets'\r\n",
    "FILENAME = 'housing.csv'\r\n",
    "FILEPATH = os.path.join(ROOTDIR, FILENAME)\r\n",
    "\r\n",
    "df = pd.read_csv(FILEPATH)\r\n",
    "df = df.dropna()\r\n",
    "df.describe().T"
   ]
  },
  {
   "cell_type": "code",
   "execution_count": 27,
   "metadata": {},
   "outputs": [],
   "source": [
    "from sklearn.preprocessing import LabelEncoder\r\n",
    "from sklearn.preprocessing import StandardScaler\r\n",
    "from sklearn.model_selection import train_test_split\r\n",
    "from sklearn.ensemble import RandomForestRegressor\r\n",
    "\r\n",
    "# Encoding for ocean_proximity\r\n",
    "le = LabelEncoder()\r\n",
    "df['ocean_proximity_encoded'] = le.fit_transform(df.ocean_proximity.values)"
   ]
  },
  {
   "cell_type": "code",
   "execution_count": 29,
   "metadata": {},
   "outputs": [
    {
     "data": {
      "text/plain": [
       "((13690, 7), (13690, 1), (6743, 7), (6743, 1))"
      ]
     },
     "execution_count": 29,
     "metadata": {},
     "output_type": "execute_result"
    }
   ],
   "source": [
    "# Create datasets\r\n",
    "y_col = ['median_house_value']\r\n",
    "not_included_cols = ['longitude', 'latitude', 'ocean_proximity']\r\n",
    "X_cols = df.columns.difference(y_col + not_included_cols)\r\n",
    "\r\n",
    "X = df[X_cols]\r\n",
    "y = df[y_col]\r\n",
    "\r\n",
    "scale_features = True\r\n",
    "\r\n",
    "# Scaler\r\n",
    "scaler = StandardScaler()\r\n",
    "if scale_features:\r\n",
    "    X = scaler.fit_transform(X)\r\n",
    "    y = scaler.fit_transform(y)\r\n",
    "\r\n",
    "X_train, X_test, y_train, y_test = train_test_split(\r\n",
    "    X, y, test_size=0.33, random_state=42)\r\n",
    "\r\n",
    "X_train.shape, y_train.shape, X_test.shape, y_test.shape"
   ]
  },
  {
   "cell_type": "code",
   "execution_count": 64,
   "metadata": {},
   "outputs": [
    {
     "name": "stdout",
     "output_type": "stream",
     "text": [
      "Fitting 5 folds for each of 300 candidates, totalling 1500 fits\n"
     ]
    }
   ],
   "source": [
    "# Gridsearch for the best regression model\r\n",
    "from sklearn.model_selection import GridSearchCV\r\n",
    "parameters = {\r\n",
    "    'n_estimators':[2,5,10,20,50],\r\n",
    "    'criterion':['mse'],\r\n",
    "    'max_depth':[2,4,6,8,10],\r\n",
    "    'min_samples_split':[2,3],\r\n",
    "    'min_samples_leaf':[1,2,3],\r\n",
    "    'bootstrap': [False, True],\r\n",
    "    'n_jobs':-1,\r\n",
    "    }\r\n",
    "\r\n",
    "clf = GridSearchCV(RandomForestRegressor(), \r\n",
    "    parameters, \r\n",
    "    verbose=1,\r\n",
    "    scoring='neg_mean_squared_error')\r\n",
    "clf.fit(X_train, y_train.reshape(-1))\r\n",
    "best_model = clf.best_estimator_"
   ]
  },
  {
   "cell_type": "code",
   "execution_count": 61,
   "metadata": {},
   "outputs": [
    {
     "name": "stdout",
     "output_type": "stream",
     "text": [
      "Error +-: [491.4650148] USD\n"
     ]
    }
   ],
   "source": [
    "# Evaluation with test set\r\n",
    "from sklearn.metrics import mean_squared_error\r\n",
    "\r\n",
    "y_pred = best_model.predict(X_test)\r\n",
    "mse = mean_squared_error(y_pred, y_test)\r\n",
    "inversed_mse = scaler.inverse_transform([mse])\r\n",
    "print(\"Error +-:\", np.sqrt(inversed_mse), \"USD\")"
   ]
  },
  {
   "cell_type": "code",
   "execution_count": 62,
   "metadata": {},
   "outputs": [
    {
     "data": {
      "text/plain": [
       "[('median_income', 0.6209427846163105),\n",
       " ('ocean_proximity_encoded', 0.13378168559696907),\n",
       " ('housing_median_age', 0.07177020499640131),\n",
       " ('population', 0.0661787746304712),\n",
       " ('total_bedrooms', 0.050338252197811836),\n",
       " ('households', 0.032145451286201686),\n",
       " ('total_rooms', 0.024842846675834467)]"
      ]
     },
     "execution_count": 62,
     "metadata": {},
     "output_type": "execute_result"
    }
   ],
   "source": [
    "# Check feature importance from the datasets\r\n",
    "features_importance = zip(X_cols, best_model.feature_importances_)\r\n",
    "list(sorted(features_importance, key=lambda x:x[1], reverse=True))"
   ]
  },
  {
   "cell_type": "code",
   "execution_count": null,
   "metadata": {},
   "outputs": [],
   "source": []
  }
 ],
 "metadata": {
  "interpreter": {
   "hash": "a8cf83ebee8abb9e656aaa2963fc8433a4477bea7de69654b93b8e0b26d4b921"
  },
  "kernelspec": {
   "display_name": "Python 3.9.5 64-bit ('explore': conda)",
   "name": "python3"
  },
  "language_info": {
   "codemirror_mode": {
    "name": "ipython",
    "version": 3
   },
   "file_extension": ".py",
   "mimetype": "text/x-python",
   "name": "python",
   "nbconvert_exporter": "python",
   "pygments_lexer": "ipython3",
   "version": "3.9.5"
  },
  "orig_nbformat": 4
 },
 "nbformat": 4,
 "nbformat_minor": 2
}